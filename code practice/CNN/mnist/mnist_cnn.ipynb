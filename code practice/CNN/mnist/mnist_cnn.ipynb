{
  "nbformat": 4,
  "nbformat_minor": 0,
  "metadata": {
    "colab": {
      "name": "mnist_cnn.ipynb",
      "private_outputs": true,
      "provenance": []
    },
    "kernelspec": {
      "name": "python3",
      "display_name": "Python 3"
    },
    "language_info": {
      "name": "python"
    }
  },
  "cells": [
    {
      "cell_type": "code",
      "metadata": {
        "id": "jS0oTlZnhrk2"
      },
      "source": [
        "import numpy as np\n",
        "import matplotlib.pyplot as plt\n",
        "\n",
        "import pandas as pd\n",
        "import seaborn as sns\n",
        "from ipywidgets import interact\n",
        "import tensorflow as tf\n",
        "from tensorflow.keras import utils, layers, models, losses"
      ],
      "execution_count": null,
      "outputs": []
    },
    {
      "cell_type": "code",
      "metadata": {
        "id": "yWDLedYXh-yd"
      },
      "source": [
        "np.set_printoptions(linewidth=200, precision=2)\n",
        "(trainDatas, trainLabels), (testDatas, testLabels) = tf.keras.datasets.mnist.load_data()"
      ],
      "execution_count": null,
      "outputs": []
    },
    {
      "cell_type": "code",
      "metadata": {
        "id": "lhoMGGO9iOgs"
      },
      "source": [
        "trainDatas = trainDatas.reshape(-1, 28, 28, 1)\n",
        "testDatas = testDatas.reshape(-1, 28, 28, 1)"
      ],
      "execution_count": null,
      "outputs": []
    },
    {
      "cell_type": "code",
      "metadata": {
        "id": "bQNOlZWqifS7"
      },
      "source": [
        "trainLabels = np.eye(10)[trainLabels]\n",
        "testLabels = np.eye(10)[testLabels]"
      ],
      "execution_count": null,
      "outputs": []
    },
    {
      "cell_type": "code",
      "metadata": {
        "id": "VMNHJWzWiu8Q"
      },
      "source": [
        "model = models.Sequential([\n",
        "    layers.Input([28, 28, 1]), \n",
        "    layers.Conv2D(32, (3,3), activation=tf.keras.activations.relu), \n",
        "    layers.MaxPool2D((2,2)),\n",
        "    layers.Conv2D(32, (3,3), activation=tf.keras.activations.relu), \n",
        "    layers.MaxPool2D((2,2)),\n",
        "    layers.Flatten(),\n",
        "    layers.Dense(256, activation=tf.keras.activations.relu),\n",
        "    layers.Dropout(0.2),\n",
        "    layers.Dense(10, activation=tf.keras.activations.softmax)\n",
        "])\n",
        "model.summary()"
      ],
      "execution_count": null,
      "outputs": []
    },
    {
      "cell_type": "code",
      "metadata": {
        "id": "6oTSab_jje0t"
      },
      "source": [
        "model.compile(\n",
        "    loss = tf.keras.losses.CategoricalCrossentropy(),\n",
        "    optimizer = tf.keras.optimizers.Adam(learning_rate = 0.0001),\n",
        "    metrics = [\"accuracy\"]\n",
        ")"
      ],
      "execution_count": null,
      "outputs": []
    },
    {
      "cell_type": "code",
      "metadata": {
        "id": "ek0Q29cOkEik"
      },
      "source": [
        "history = model.fit(\n",
        "    trainDatas, trainLabels,\n",
        "    batch_size = 1000,\n",
        "    epochs = 20,\n",
        "    validation_split = 0.2\n",
        ")"
      ],
      "execution_count": null,
      "outputs": []
    },
    {
      "cell_type": "code",
      "metadata": {
        "id": "kfQIn4k9kNmK"
      },
      "source": [
        "loss = history.history[\"loss\"]\n",
        "validationLoss = history.history[\"val_loss\"]\n",
        "epochs = range(0, len(loss))\n",
        "\n",
        "plt.plot(epochs, loss, label=\"Training Loss\")\n",
        "plt.plot(epochs, validationLoss, label=\"Validation Loss\")\n",
        "plt.title('Training and validation loss')\n",
        "plt.xlabel('Epochs')\n",
        "plt.ylabel('Loss')\n",
        "plt.legend()\n",
        "plt.show()"
      ],
      "execution_count": null,
      "outputs": []
    },
    {
      "cell_type": "code",
      "metadata": {
        "id": "RdHTnyXrkt99"
      },
      "source": [
        "evaLoss, evaAcc = model.evaluate(testDatas, testLabels, verbose=2)\n",
        "print( evaLoss, \"{:3.2f} %\".format(evaAcc*100))"
      ],
      "execution_count": null,
      "outputs": []
    },
    {
      "cell_type": "code",
      "metadata": {
        "id": "0P6ZKXH2lChR"
      },
      "source": [
        "@interact(idx=(0, 9999,1))\n",
        "def showTestImage(idx):\n",
        "    data = testDatas[idx].reshape(-1, 28, 28, 1)\n",
        "    dataPred = model.predict(data.astype(float))\n",
        "\n",
        "    plt.imshow(testDatas[idx].reshape(28, 28), cmap=\"gray\")\n",
        "    plt.grid(False)\n",
        "    plt.title(\"LABEL:{}, PREDICT:{}\".format(np.argmax(testLabels[idx]), np.argmax(dataPred)))\n",
        "    plt.show()"
      ],
      "execution_count": null,
      "outputs": []
    },
    {
      "cell_type": "code",
      "metadata": {
        "id": "wIipAbAWoBa9"
      },
      "source": [
        "model.save(\"mnist_cnn_hong.h5\")\n",
        "del model"
      ],
      "execution_count": null,
      "outputs": []
    },
    {
      "cell_type": "code",
      "metadata": {
        "id": "96DBEb5MooBO"
      },
      "source": [
        "model = models.load_model(\"mnist_cnn_hong.h5\")"
      ],
      "execution_count": null,
      "outputs": []
    },
    {
      "cell_type": "code",
      "metadata": {
        "id": "dh0lMDjVoq42"
      },
      "source": [
        "test_scores = model.evaluate(testDatas, testLabels, verbose=2)\n",
        "print(\"Test loss:\", test_scores[0])\n",
        "print(\"Test accuracy:\", test_scores[1])"
      ],
      "execution_count": null,
      "outputs": []
    },
    {
      "cell_type": "code",
      "metadata": {
        "id": "UHRQ1NIlotXN"
      },
      "source": [
        ""
      ],
      "execution_count": null,
      "outputs": []
    }
  ]
}