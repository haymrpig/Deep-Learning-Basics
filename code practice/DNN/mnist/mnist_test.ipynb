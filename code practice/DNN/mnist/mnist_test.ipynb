{
  "nbformat": 4,
  "nbformat_minor": 0,
  "metadata": {
    "colab": {
      "name": "mnist_test.ipynb",
      "private_outputs": true,
      "provenance": []
    },
    "kernelspec": {
      "name": "python3",
      "display_name": "Python 3"
    },
    "language_info": {
      "name": "python"
    },
    "accelerator": "GPU"
  },
  "cells": [
    {
      "cell_type": "code",
      "metadata": {
        "id": "OxoW7j1TM_bL"
      },
      "source": [
        "from google.colab import drive\n",
        "drive.mount('/content/gdrive/')"
      ],
      "execution_count": null,
      "outputs": []
    },
    {
      "cell_type": "code",
      "metadata": {
        "id": "57uMVSIXNXtb"
      },
      "source": [
        "import numpy as np\n",
        "import tensorflow as tf\n",
        "from tensorflow.keras import layers, models, losses, optimizers, datasets, utils\n",
        "from ipywidgets import interact\n",
        "import matplotlib.pyplot as plt\n",
        "import pandas as pd"
      ],
      "execution_count": null,
      "outputs": []
    },
    {
      "cell_type": "code",
      "metadata": {
        "id": "ZHKx0k6ZNx7W"
      },
      "source": [
        "np.set_printoptions(linewidth=200, precision=2)"
      ],
      "execution_count": null,
      "outputs": []
    },
    {
      "cell_type": "code",
      "metadata": {
        "id": "yuxDFGhrN2uv"
      },
      "source": [
        "(train_datas, train_labels), (test_datas, test_labels) = datasets.mnist.load_data()"
      ],
      "execution_count": null,
      "outputs": []
    },
    {
      "cell_type": "code",
      "metadata": {
        "id": "4VStikWMOAAC"
      },
      "source": [
        "# unique method는 딕셔너리처럼 생성한다. \n",
        "# 현재 train_labes를 key로 return_count=True는 각각의 key에 해당하는 개수를 반환한다. \n",
        "unique, counts = np.unique(train_labels, return_counts=True)\n",
        "num_labels = len(unique)\n",
        "print(\"Train labels: {}, labels : {}\".format(dict(zip(unique, counts)), num_labels))"
      ],
      "execution_count": null,
      "outputs": []
    },
    {
      "cell_type": "code",
      "metadata": {
        "id": "TG3EMlwzPFL7"
      },
      "source": [
        "# decorator를 통해 train data를 모두 살펴볼 수 있다. \n",
        "# interact는 사용자의 입력을 넣어줄 수 있게 만든 메소드이다.\n",
        "@interact(idx=(0, train_datas.shape[0]-1))\n",
        "def showImage(idx):\n",
        "    plt.imshow(train_datas[idx], cmap=\"gray\")\n",
        "    plt.grid(False)\n",
        "    plt.title(\"LABEL : {}\".format(train_labels[idx]))\n",
        "    plt.show()"
      ],
      "execution_count": null,
      "outputs": []
    },
    {
      "cell_type": "code",
      "metadata": {
        "id": "QWgdtX96SDcA"
      },
      "source": [
        "@interact(idx=(0, train_datas.shape[0]-1))\n",
        "def showImage(idx):\n",
        "    print(train_datas[idx])"
      ],
      "execution_count": null,
      "outputs": []
    },
    {
      "cell_type": "code",
      "metadata": {
        "id": "QcFx7slFTK5q"
      },
      "source": [
        "# 이미지가 현재 28*28사이즈인데, 이 사이즈를 한 줄로 바꾸는 과정이다. \n",
        "train_datas = train_datas.reshape(60000, 28*28).astype(\"float32\")\n",
        "test_datas = test_datas.reshape(10000, 28*28).astype(\"float32\")"
      ],
      "execution_count": null,
      "outputs": []
    },
    {
      "cell_type": "code",
      "metadata": {
        "id": "QVA_6cx2Tj5J"
      },
      "source": [
        "inputs = tf.keras.Input(shape=(28*28,))\n",
        "hidden = layers.Dense(64, activation=\"sigmoid\")(inputs)\n",
        "hidden = layers.Dense(64, activation=\"sigmoid\")(hidden)\n",
        "outputs = layers.Dense(10)(hidden)\n"
      ],
      "execution_count": null,
      "outputs": []
    },
    {
      "cell_type": "code",
      "metadata": {
        "id": "gk017Kl-a_Af"
      },
      "source": [
        "model = models.Model(inputs=inputs, outputs=outputs, name=\"mnist_model\")\n",
        "model.summary()"
      ],
      "execution_count": null,
      "outputs": []
    },
    {
      "cell_type": "code",
      "metadata": {
        "id": "fPxsejs0bPcd"
      },
      "source": [
        "utils.plot_model(model, \"model.png\", True)"
      ],
      "execution_count": null,
      "outputs": []
    },
    {
      "cell_type": "code",
      "metadata": {
        "id": "uYl1tnPdbdGa"
      },
      "source": [
        "# 사실 위에서 마지막 Dense에서 activation함수를 적용하여 어떤 레이블이 1이 나오는지 정해주어야 한다.\n",
        "# ex) outputs = layers.Dense(10, activation=\"softmax\")\n",
        "# 하지만 아래에서 Sparse, from_logits=True로 함으로써 자동으로 활성함수가 붙은 것과 같은 동작을 하게 된다. \n",
        "# 결과가 Scalar로 해당 레이블만 1인 결과가 나와도 이 과정을 거치면 10개의 레이블이 0000100000 이런식으로 one-hot\n",
        "# encoding이 된다. \n",
        "# 보통 loss값만 확인하지만, accuracy까지 확인하기 위해 metrics=[\"accuracy\"]를 추가한다. \n",
        "model.compile(\n",
        "    loss=losses.SparseCategoricalCrossentropy(from_logits=True),\n",
        "    optimizer=optimizers.RMSprop(),\n",
        "    metrics=[\"accuracy\"],\n",
        ")"
      ],
      "execution_count": null,
      "outputs": []
    },
    {
      "cell_type": "code",
      "metadata": {
        "id": "UTuzs97-db7I"
      },
      "source": [
        "# validation_split은 cross validation개념으로 학습데이터 중 20%를 validation data로 보겠다는 의미이다. \n",
        "history = model.fit(train_datas, train_labels, batch_size=64, epochs=5, validation_split=0.2)"
      ],
      "execution_count": null,
      "outputs": []
    },
    {
      "cell_type": "code",
      "metadata": {
        "id": "NgDmDoCtdmY2"
      },
      "source": [
        "# verbose : 학습 과정에서 진행 내용을 출력하기 위한 모드 설정\n",
        "# 0 : 출력안함\n",
        "# 1 : Progress Bar(진행바)로 출력\n",
        "# 2 : 각 epoch마다 한줄 씩 출력\n",
        "test_scores = model.evaluate(test_datas, test_labels, verbose=2)\n",
        "print(\"Test loss:\", test_scores[0])\n",
        "print(\"Test accuracy:\", test_scores[1])"
      ],
      "execution_count": null,
      "outputs": []
    },
    {
      "cell_type": "markdown",
      "metadata": {
        "id": "d3DqTo0wgq7B"
      },
      "source": [
        ""
      ]
    },
    {
      "cell_type": "code",
      "metadata": {
        "id": "LpYw0G0Of5Sm"
      },
      "source": [
        ""
      ],
      "execution_count": null,
      "outputs": []
    },
    {
      "cell_type": "code",
      "metadata": {
        "id": "QtdSzKS-eWqE"
      },
      "source": [
        "history_df = pd.DataFrame(history.history)\n",
        "history_df[[\"loss\", \"val_loss\"]].plot()"
      ],
      "execution_count": null,
      "outputs": []
    },
    {
      "cell_type": "code",
      "metadata": {
        "id": "7Vuj3ofSf8Go"
      },
      "source": [
        "history_df"
      ],
      "execution_count": null,
      "outputs": []
    },
    {
      "cell_type": "code",
      "metadata": {
        "id": "I3K5ORWWe6BO"
      },
      "source": [
        "history_df[[\"accuracy\", \"val_accuracy\"]].plot()"
      ],
      "execution_count": null,
      "outputs": []
    },
    {
      "cell_type": "code",
      "metadata": {
        "id": "IOY86_4hgO3u"
      },
      "source": [
        "model.save(\"mnist_hong.h5\")\n",
        "del model"
      ],
      "execution_count": null,
      "outputs": []
    },
    {
      "cell_type": "code",
      "metadata": {
        "id": "_FiqnTFPgXt1"
      },
      "source": [
        "model = models.load_model(\"mnist_hong.h5\")"
      ],
      "execution_count": null,
      "outputs": []
    },
    {
      "cell_type": "code",
      "metadata": {
        "id": "s6pt4LsfgiYe"
      },
      "source": [
        "test_scores = model.evaluate(test_datas, test_labels, verbose=2)\n",
        "print(\"Test loss:\", test_scores[0])\n",
        "print(\"Test accuracy:\", test_scores[1])"
      ],
      "execution_count": null,
      "outputs": []
    },
    {
      "cell_type": "code",
      "metadata": {
        "id": "TjAxGKqYguqa"
      },
      "source": [
        ""
      ],
      "execution_count": null,
      "outputs": []
    }
  ]
}