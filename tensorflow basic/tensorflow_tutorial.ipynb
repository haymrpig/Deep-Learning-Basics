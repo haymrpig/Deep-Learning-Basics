{
  "nbformat": 4,
  "nbformat_minor": 0,
  "metadata": {
    "colab": {
      "name": "tensorflow tutorial.ipynb",
      "private_outputs": true,
      "provenance": []
    },
    "kernelspec": {
      "name": "python3",
      "display_name": "Python 3"
    },
    "language_info": {
      "name": "python"
    }
  },
  "cells": [
    {
      "cell_type": "code",
      "metadata": {
        "id": "K9q6exejeHE6"
      },
      "source": [
        "!pip3 install tensorflow==1.15"
      ],
      "execution_count": null,
      "outputs": []
    },
    {
      "cell_type": "code",
      "metadata": {
        "id": "JI8wg9T8eKnu"
      },
      "source": [
        "import tensorflow as tf\n"
      ],
      "execution_count": null,
      "outputs": []
    },
    {
      "cell_type": "code",
      "metadata": {
        "id": "WFTBPv_Bd6z6"
      },
      "source": [
        "hello = tf.constant(\"Hello, Tensorflow!\")\n",
        "\n",
        "sess = tf.Session()\n",
        "\n",
        "print(sess.run(hello))"
      ],
      "execution_count": null,
      "outputs": []
    },
    {
      "cell_type": "code",
      "metadata": {
        "id": "h36q0goeeumr"
      },
      "source": [
        "# graph 정의하기 \n",
        "node1 = tf.constant(3.0, tf.float32)\n",
        "node2 = tf.constant(4.0)\n",
        "node3 = tf.add(node1, node2)\n",
        "\n",
        "sess = tf.Session()\n",
        "print(\"sess.run(node1, node2):\", sess.run([node1, node2]))\n",
        "print(\"sess.run(node3)]:\", sess.run(node3))"
      ],
      "execution_count": null,
      "outputs": []
    },
    {
      "cell_type": "code",
      "metadata": {
        "id": "tI6BQutPfIcm"
      },
      "source": [
        "# graph를 미리 정의하고 값을 넘겨주는 방식\n",
        "a = tf.placeholder(tf.float32)\n",
        "b = tf.placeholder(tf.float32)\n",
        "adder_node = a + b\n",
        "\n",
        "print( sess.run(adder_node, feed_dict={a:3, b:4.5}))\n",
        "print( sess.run(adder_node, feed_dict={a:[1,3], b:[2,4]}))"
      ],
      "execution_count": null,
      "outputs": []
    },
    {
      "cell_type": "markdown",
      "metadata": {
        "id": "pgCKD7CJgesr"
      },
      "source": [
        "# Linear Regreesion 구현하기"
      ]
    },
    {
      "cell_type": "code",
      "metadata": {
        "id": "5Tf22FrKfkJt"
      },
      "source": [
        "x_train = [1,2,3,4,5]\n",
        "y_train = [2.1,3.1,4.1,5.1,6.1]\n",
        "\n",
        "x = tf.placeholder(tf.float32)\n",
        "y = tf.placeholder(tf.float32)\n",
        "\n",
        "w = tf.Variable(tf.random_normal([1]), name='weight')\n",
        "b = tf.Variable(tf.random_normal([1]), name='bias')\n",
        "\n",
        "hypothesis = x_train * w + b\n",
        "\n",
        "# loss function\n",
        "# reduce_mean은 tensor를 평균 내주는 메소드\n",
        "cost = tf.reduce_mean(tf.square(hypothesis - y_train))\n",
        "\n",
        "optimizer = tf.train.GradientDescentOptimizer(learning_rate=0.01)\n",
        "train = optimizer.minimize(cost)\n",
        "\n",
        "sess = tf.Session()\n",
        "\n",
        "# w, b를 초기화 해준다. \n",
        "sess.run(tf.global_variables_initializer())\n",
        "\n",
        "\n",
        "# 리스트를 이용해서 한번에 run할 수 있고, return을 받을 수도 있다. \n",
        "for step in range(2001):\n",
        "    cost_val, w_val, b_val, _ = sess.run([cost, w, b, train], feed_dict={x:x_train, y:y_train})\n",
        "    if step%20==0:\n",
        "        print(step, cost_val, w_val, b_val)"
      ],
      "execution_count": null,
      "outputs": []
    },
    {
      "cell_type": "code",
      "metadata": {
        "id": "lyyP8Otllgo3"
      },
      "source": [
        "x_train = [1,2,3,4,5]\n",
        "y_train = [2.1,3.1,4.1,5.1,6.1]\n",
        "\n",
        "x = tf.placeholder(tf.float32)\n",
        "y = tf.placeholder(tf.float32)\n",
        "\n",
        "w = tf.Variable(tf.random_normal([1]), name='weight')\n",
        "b = tf.Variable(tf.random_normal([1]), name='bias')\n",
        "\n",
        "hypothesis = x_train * w + b\n",
        "\n",
        "cost = tf.reduce_mean(tf.square(hypothesis - y_train))\n",
        "\n",
        "optimizer = tf.train.GradientDescentOptimizer(learning_rate=0.01)\n",
        "# train = optimizer.minimize(cost) 이 코드 대신 아래 코드를 사용하면 gradient에 추가 작업을 진행할 수 있다. \n",
        "gvs = optimizer.compute_gradients(cost)\n",
        "train = optimizer.apply_gradients(gvs)\n",
        "\n",
        "sess = tf.Session()\n",
        "\n",
        "sess.run(tf.global_variables_initializer())\n",
        "\n",
        "for step in range(2001):\n",
        "    cost_val, w_val, b_val, _ = sess.run([cost, w, b, train], feed_dict={x:x_train, y:y_train})\n",
        "    if step%20==0:\n",
        "        print(step, cost_val, w_val, b_val)"
      ],
      "execution_count": null,
      "outputs": []
    },
    {
      "cell_type": "markdown",
      "metadata": {
        "id": "n8zki_EZmrbf"
      },
      "source": [
        "**multi variable**"
      ]
    },
    {
      "cell_type": "code",
      "metadata": {
        "id": "hcVxzGAAmuze"
      },
      "source": [
        "x_data = [[73., 50.,54.],[73., 50.,54.],[73., 50.,54.]]\n",
        "y_data = [[73.],[50.],[54.]]\n",
        "\n",
        "x = tf.placeholder(tf.float32, shape=[None,3])\n",
        "y = tf.placeholder(tf.float32, shape=[None,1])\n",
        "\n",
        "w = tf.Variable(tf.random_normal([3,1]), name='weight')\n",
        "b = tf.Variable(tf.random_normal([1]), name='bias')\n",
        "\n",
        "hypothesis = tf.matmul(x, w) + b\n",
        "cost = tf.reduce_mean(tf.square(hypothesis-y))\n",
        "optimizer = tf.train.GradientDescentOptimizer(learning_rate=1e-5)\n",
        "train = optimizer.minimize(cost)\n",
        "\n",
        "sess = tf.Session()\n",
        "sess.run(tf.global_variables_initializer())\n",
        "\n",
        "for step in range(2001):\n",
        "    cost_val, _ = sess.run([cost, train], feed_dict={x:x_data, y:y_data})\n",
        "    if step % 500 == 0:\n",
        "        print( step, cost_val )"
      ],
      "execution_count": null,
      "outputs": []
    },
    {
      "cell_type": "markdown",
      "metadata": {
        "id": "NrTln5QJqA57"
      },
      "source": [
        "# Tensor Manipulation"
      ]
    },
    {
      "cell_type": "code",
      "metadata": {
        "id": "Rr3-OmycoKhl"
      },
      "source": [
        "import numpy as np\n",
        "t = tf.constant([1,2,3,4])\n",
        "with tf.Session():\n",
        "    print(tf.shape(t).eval())"
      ],
      "execution_count": null,
      "outputs": []
    },
    {
      "cell_type": "code",
      "metadata": {
        "id": "3u-uvkEUtRat"
      },
      "source": [
        "t = tf.constant([[1,2],\n",
        "                 [3,4]])\n",
        "with tf.Session():\n",
        "    print(tf.shape(t).eval())"
      ],
      "execution_count": null,
      "outputs": []
    },
    {
      "cell_type": "markdown",
      "metadata": {
        "id": "igPJS3Rku3WS"
      },
      "source": [
        "**Broadcasting**"
      ]
    },
    {
      "cell_type": "code",
      "metadata": {
        "id": "qVw7L_VAuMQR"
      },
      "source": [
        "# broadcating에 의해 (1,2), (2,1)크기를 가지는 두 tensor의 크기가 모두 (2,2)로 확장되어 계산이 된다. \n",
        "matrix1 = tf.constant([[1,2]])\n",
        "matrix2 = tf.constant([[1],[2]])\n",
        "with tf.Session():\n",
        "    print((matrix1+matrix2).eval())"
      ],
      "execution_count": null,
      "outputs": []
    },
    {
      "cell_type": "markdown",
      "metadata": {
        "id": "MqBmHuIQvck1"
      },
      "source": [
        "**Reduce mean**"
      ]
    },
    {
      "cell_type": "code",
      "metadata": {
        "id": "Cg9uDpJOvCrX"
      },
      "source": [
        "x=[[1.,10.],[3.,10.]]\n",
        "with tf.Session():\n",
        "    print( tf.reduce_mean(x, axis=0).eval() )\n",
        "    print( tf.reduce_mean(x, axis=1).eval() )\n",
        "    print( tf.reduce_mean(x, axis=-1).eval()) # 가장 안쪽 축의 평균을 구하라\n",
        "    print( tf.reduce_mean(x).eval()) \n",
        "        "
      ],
      "execution_count": null,
      "outputs": []
    },
    {
      "cell_type": "markdown",
      "metadata": {
        "id": "iz_BsuTSwDeW"
      },
      "source": [
        "**Reduce sum**"
      ]
    },
    {
      "cell_type": "code",
      "metadata": {
        "id": "3GwKoZz9vuwd"
      },
      "source": [
        "x=[[1.,10.],[3.,10.]]\n",
        "with tf.Session():\n",
        "    print( tf.reduce_sum(x, axis=0).eval() )\n",
        "    print( tf.reduce_sum(x, axis=1).eval() )\n",
        "    print( tf.reduce_sum(x, axis=-1).eval()) # 가장 안쪽 축의 합을 구하라\n",
        "    print( tf.reduce_sum(x).eval()) "
      ],
      "execution_count": null,
      "outputs": []
    },
    {
      "cell_type": "markdown",
      "metadata": {
        "id": "pIuopgt-wUUP"
      },
      "source": [
        "Argmax"
      ]
    },
    {
      "cell_type": "code",
      "metadata": {
        "id": "8fQF_ctiwID4"
      },
      "source": [
        "x=[[1.,10.],[3.,10.]]\n",
        "with tf.Session():\n",
        "    print( tf.argmax(x, axis=0).eval() )\n",
        "    print( tf.argmax(x, axis=1).eval() )\n",
        "    print( tf.argmax(x, axis=-1).eval()) # 가장 안쪽 축의 합을 구하라"
      ],
      "execution_count": null,
      "outputs": []
    },
    {
      "cell_type": "markdown",
      "metadata": {
        "id": "tgeWgVvQwdXk"
      },
      "source": [
        "**Reshape**"
      ]
    },
    {
      "cell_type": "code",
      "metadata": {
        "id": "uP1GWSnpwYVr"
      },
      "source": [
        "x=[[1.,10.],[3.,10.]]\n",
        "with tf.Session():\n",
        "    print( tf.reshape(x, shape=[-1,4]).eval() )"
      ],
      "execution_count": null,
      "outputs": []
    },
    {
      "cell_type": "code",
      "metadata": {
        "id": "bFdZABQvwqm7"
      },
      "source": [
        "x=[[1.],[10.],[3.],[10.]]\n",
        "with tf.Session():\n",
        "    print( tf.squeeze(x).eval() )"
      ],
      "execution_count": null,
      "outputs": []
    },
    {
      "cell_type": "code",
      "metadata": {
        "id": "apCAkSQnw4_0"
      },
      "source": [
        "x=[[1.,10.],[3.,10.]]\n",
        "with tf.Session():\n",
        "    print( tf.expand_dims(x,1).eval() )"
      ],
      "execution_count": null,
      "outputs": []
    },
    {
      "cell_type": "markdown",
      "metadata": {
        "id": "qmTk50qBxND3"
      },
      "source": [
        "**One hot**"
      ]
    },
    {
      "cell_type": "code",
      "metadata": {
        "id": "mEyrB-4JxE4n"
      },
      "source": [
        "t = [[0],[1],[2],[0]]\n",
        "with tf.Session():\n",
        "    t=tf.one_hot(t, depth=3) # depth는 class개수이다. \n",
        "    print( tf.reshape(t, shape=[-1,3]).eval() ) # one_hot을 쓸 경우 rank가 1증가하기 때문에 reshape"
      ],
      "execution_count": null,
      "outputs": []
    },
    {
      "cell_type": "markdown",
      "metadata": {
        "id": "bI4MXYRR4FPe"
      },
      "source": [
        "**Casting**"
      ]
    },
    {
      "cell_type": "code",
      "metadata": {
        "id": "02lnwxH-xbOy"
      },
      "source": [
        "with tf.Session():\n",
        "    print(tf.cast([1.5,2.2,2.4,5.6], tf.int32).eval())\n",
        "    print(tf.cast([True,False, 1==1, 0==1], tf.int32).eval())"
      ],
      "execution_count": null,
      "outputs": []
    },
    {
      "cell_type": "markdown",
      "metadata": {
        "id": "K0lkeyn94iKr"
      },
      "source": [
        "**stack**"
      ]
    },
    {
      "cell_type": "code",
      "metadata": {
        "id": "3K_Kau6r4ND1"
      },
      "source": [
        "x = [1,4]\n",
        "y = [2,3]\n",
        "z = [5,6]\n",
        "with tf.Session():\n",
        "    print( tf.stack([x,y,z], axis=1).eval() )"
      ],
      "execution_count": null,
      "outputs": []
    },
    {
      "cell_type": "markdown",
      "metadata": {
        "id": "BJEQTTku4x9G"
      },
      "source": [
        "**Ones and Zeros like**"
      ]
    },
    {
      "cell_type": "code",
      "metadata": {
        "id": "TW5yFCuv4ueG"
      },
      "source": [
        "x=[[0,1,2],[3,4,5]]\n",
        "with tf.Session():\n",
        "    print( tf.ones_like(x).eval())\n",
        "    print( tf.zeros_like(x).eval())"
      ],
      "execution_count": null,
      "outputs": []
    },
    {
      "cell_type": "markdown",
      "metadata": {
        "id": "Ow9suGfo5CT-"
      },
      "source": [
        "**Zip**"
      ]
    },
    {
      "cell_type": "code",
      "metadata": {
        "id": "dj6V2TZq4_3H"
      },
      "source": [
        "for x, y in zip([1,2,3],[4,5,6]):\n",
        "    print(x,y)"
      ],
      "execution_count": null,
      "outputs": []
    }
  ]
}